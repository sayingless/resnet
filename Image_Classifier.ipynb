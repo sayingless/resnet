{
 "cells": [
  {
   "cell_type": "code",
   "execution_count": 1,
   "id": "c22bc616",
   "metadata": {},
   "outputs": [],
   "source": [
    "from __future__ import print_function, division\n",
    "\n",
    "import torch\n",
    "import torch.nn as nn\n",
    "import torch.optim as optim\n",
    "from torch.optim import lr_scheduler\n",
    "import torch.backends.cudnn as cudnn\n",
    "import numpy as np\n",
    "import torchvision\n",
    "from torchvision import datasets, transforms\n",
    "from torchvision.models import resnet50, ResNet50_Weights\n",
    "import matplotlib.pyplot as plt\n",
    "import time\n",
    "import os\n",
    "import copy"
   ]
  },
  {
   "cell_type": "code",
   "execution_count": null,
   "id": "9189216f",
   "metadata": {},
   "outputs": [],
   "source": [
    "transform_training_set = transforms.Compose([\n",
    "    transforms.RandomResizedCrop(224),\n",
    "    transforms.RandomHorizontalFlip(),\n",
    "    transforms.ToTensor(),\n",
    "    transforms.Normalize([0.485, 0.456, 0.406], [0.229, 0.224, 0.225])\n",
    "])"
   ]
  },
  {
   "cell_type": "code",
   "execution_count": null,
   "id": "1bbb6119",
   "metadata": {},
   "outputs": [],
   "source": [
    "image_dir = 'sex_normal_toy'"
   ]
  },
  {
   "cell_type": "code",
   "execution_count": null,
   "id": "ec480dbd",
   "metadata": {},
   "outputs": [],
   "source": [
    "training_set = datasets.ImageFolder(os.path.join(image_dir, 'training'), transform_training_set)"
   ]
  },
  {
   "cell_type": "code",
   "execution_count": null,
   "id": "533dd22c",
   "metadata": {},
   "outputs": [],
   "source": [
    "training_data = torch.utils.data.DataLoader(training_set, shuffle=True, num_workers=4)"
   ]
  },
  {
   "cell_type": "code",
   "execution_count": null,
   "id": "2a4431ba",
   "metadata": {},
   "outputs": [],
   "source": [
    "len(training_data)"
   ]
  },
  {
   "cell_type": "code",
   "execution_count": null,
   "id": "d83298dd",
   "metadata": {},
   "outputs": [],
   "source": [
    "image_labels = training_set.classes"
   ]
  },
  {
   "cell_type": "code",
   "execution_count": null,
   "id": "dd3c0484",
   "metadata": {},
   "outputs": [],
   "source": [
    "image_labels"
   ]
  },
  {
   "cell_type": "code",
   "execution_count": null,
   "id": "62d8692e",
   "metadata": {},
   "outputs": [],
   "source": [
    "device = torch.device(\"cuda:0\" if torch.cuda.is_available() else \"cpu\")"
   ]
  },
  {
   "cell_type": "code",
   "execution_count": null,
   "id": "c8c5855d",
   "metadata": {
    "scrolled": true
   },
   "outputs": [],
   "source": [
    "resnet_model = resnet50(weights=ResNet50_Weights.DEFAULT)\n",
    "number_features = resnet_model.fc.in_features\n",
    "resnet_model.fc = nn.Linear(number_features, len(image_labels))\n",
    "resnet_model = resnet_model.to(device)\n",
    "criterion = nn.CrossEntropyLoss()\n",
    "optimizer = optim.SGD(resnet_model.parameters(), lr=0.001, momentum=0.9)\n",
    "scheduler = lr_scheduler.StepLR(optimizer, step_size=7, gamma=0.1)\n",
    "\n",
    "since = time.time()\n",
    "for epoch in range(10):\n",
    "    resnet_model.train()\n",
    "    print(f'Epoch {epoch}/{5 - 1}')\n",
    "    print('-' * 10)\n",
    "    running_loss = 0.0\n",
    "    running_corrects = 0\n",
    "\n",
    "    for inputs, labels in training_data:\n",
    "        inputs = inputs.to(device)\n",
    "        labels = labels.to(device)\n",
    "        optimizer.zero_grad()\n",
    "\n",
    "        # forward\n",
    "        # track history if only in train\n",
    "#         torch.set_grad_enabled(True)\n",
    "        outputs = resnet_model(inputs)\n",
    "        _, preds = torch.max(outputs, 1)\n",
    "        loss = criterion(outputs, labels)\n",
    "\n",
    "        # backward + optimize only if in training phase\n",
    "        loss.backward()\n",
    "        optimizer.step()\n",
    "\n",
    "        # statistics\n",
    "        running_loss += loss.item() * inputs.size(0)\n",
    "        running_corrects += torch.sum(preds == labels.data)\n",
    "        \n",
    "    scheduler.step()\n",
    "    epoch_loss = running_loss / len(training_data)\n",
    "    epoch_acc = running_corrects.double() / len(training_data)\n",
    "\n",
    "    print(f'Training Loss: {epoch_loss:.4f} Acc: {epoch_acc:.4f}')\n",
    "    \n",
    "time_elapsed = time.time() - since\n",
    "print(f'Training complete in {time_elapsed // 60:.0f}m {time_elapsed % 60:.0f}s')"
   ]
  },
  {
   "cell_type": "code",
   "execution_count": null,
   "id": "8bae0222",
   "metadata": {},
   "outputs": [],
   "source": [
    "from PIL import Image"
   ]
  },
  {
   "cell_type": "code",
   "execution_count": null,
   "id": "9fe5547e",
   "metadata": {},
   "outputs": [],
   "source": [
    "transform_validation_set = transforms.Compose([\n",
    "    transforms.Resize(256),\n",
    "    transforms.CenterCrop(224),\n",
    "    transforms.ToTensor(),\n",
    "    transforms.Normalize([0.485, 0.456, 0.406], [0.229, 0.224, 0.225])\n",
    "])"
   ]
  },
  {
   "cell_type": "code",
   "execution_count": null,
   "id": "49ff6ab6",
   "metadata": {},
   "outputs": [],
   "source": [
    "resnet_model.eval()\n",
    "validation_image = Image.open('sex_toy.jpeg')\n",
    "test_image_Data = transform_validation_set(validation_image).unsqueeze(0).to(device)\n",
    "out = resnet_model(x)\n",
    "p = torch.nn.functional.softmax(out, dim=1)\n",
    "score, index = torch.topk(p, 1)\n",
    "input_category_id = index[0][0].item() # 716\n",
    "predicted_confidence = score[0][0].item()\n",
    "print(f'label: {image_labels[input_category_id]} confidence: {predicted_confidence}')"
   ]
  },
  {
   "cell_type": "code",
   "execution_count": null,
   "id": "f46c159c",
   "metadata": {},
   "outputs": [],
   "source": [
    "validation_image = Image.open('normal_toy.jpeg')\n",
    "test_image_Data = transform_validation_set(validation_image).unsqueeze(0).to(device)\n",
    "out = resnet_model(x)\n",
    "p = torch.nn.functional.softmax(out, dim=1)\n",
    "score, index = torch.topk(p, 1)\n",
    "input_category_id = index[0][0].item() # 716\n",
    "predicted_confidence = score[0][0].item()\n",
    "print(f'label: {image_labels[input_category_id]} confidence: {predicted_confidence}')"
   ]
  },
  {
   "cell_type": "code",
   "execution_count": null,
   "id": "97c71f9c",
   "metadata": {},
   "outputs": [],
   "source": []
  }
 ],
 "metadata": {
  "kernelspec": {
   "display_name": "Python [conda env:learn-nn]",
   "language": "python",
   "name": "conda-env-learn-nn-py"
  },
  "language_info": {
   "codemirror_mode": {
    "name": "ipython",
    "version": 3
   },
   "file_extension": ".py",
   "mimetype": "text/x-python",
   "name": "python",
   "nbconvert_exporter": "python",
   "pygments_lexer": "ipython3",
   "version": "3.9.13"
  }
 },
 "nbformat": 4,
 "nbformat_minor": 5
}
